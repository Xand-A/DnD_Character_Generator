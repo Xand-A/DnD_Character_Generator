{
 "cells": [
  {
   "cell_type": "code",
   "execution_count": 16,
   "metadata": {},
   "outputs": [],
   "source": [
    "from defined.char_builder import character\n",
    "import random"
   ]
  },
  {
   "cell_type": "code",
   "execution_count": 17,
   "metadata": {},
   "outputs": [],
   "source": [
    "new = character()"
   ]
  },
  {
   "cell_type": "code",
   "execution_count": 18,
   "metadata": {},
   "outputs": [
    {
     "name": "stdout",
     "output_type": "stream",
     "text": [
      "{\"race\": \"Halfling\", \"characterClass\": \"Fighter\", \"gender\": \"Male\", \"abilityScores\": {\"STR\": 17, \"DEX\": 18, \"CON\": 15, \"INT\": 11, \"WIS\": 11, \"CHA\": 8}, \"modifiers\": {\"STR\": 3, \"DEX\": 4, \"CON\": 2, \"INT\": 0, \"WIS\": 0, \"CHA\": -1}, \"hitPoints\": 7, \"alignment\": \"Neutral Good\", \"age\": 22}\n"
     ]
    }
   ],
   "source": [
    "import json\n",
    "json_str = json.dumps(new.__dict__)\n",
    "\n",
    "# Print the JSON string\n",
    "print(json_str)"
   ]
  },
  {
   "cell_type": "code",
   "execution_count": 19,
   "metadata": {},
   "outputs": [
    {
     "data": {
      "text/plain": [
       "'Fighter'"
      ]
     },
     "execution_count": 19,
     "metadata": {},
     "output_type": "execute_result"
    }
   ],
   "source": [
    "new.characterClass"
   ]
  }
 ],
 "metadata": {
  "kernelspec": {
   "display_name": "Python 3",
   "language": "python",
   "name": "python3"
  },
  "language_info": {
   "codemirror_mode": {
    "name": "ipython",
    "version": 3
   },
   "file_extension": ".py",
   "mimetype": "text/x-python",
   "name": "python",
   "nbconvert_exporter": "python",
   "pygments_lexer": "ipython3",
   "version": "3.11.5"
  },
  "orig_nbformat": 4
 },
 "nbformat": 4,
 "nbformat_minor": 2
}
