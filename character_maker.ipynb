{
 "cells": [
  {
   "cell_type": "code",
   "execution_count": 1,
   "metadata": {},
   "outputs": [],
   "source": [
    "from char_builder import character\n",
    "import random"
   ]
  },
  {
   "cell_type": "code",
   "execution_count": 2,
   "metadata": {},
   "outputs": [],
   "source": [
    "new = character()"
   ]
  },
  {
   "cell_type": "code",
   "execution_count": 3,
   "metadata": {},
   "outputs": [
    {
     "name": "stdout",
     "output_type": "stream",
     "text": [
      "{\"race\": \"Tiefling\", \"characterClass\": \"Rogue\", \"gender\": \"Female\", \"name\": \"Seraphina Duskwalker\", \"abilityScores\": {\"STR\": 10, \"DEX\": 16, \"CON\": 14, \"INT\": 13, \"WIS\": 10, \"CHA\": 17}, \"modifiers\": {\"STR\": 0, \"DEX\": 3, \"CON\": 2, \"INT\": 1, \"WIS\": 0, \"CHA\": 3}, \"hitPoints\": 10, \"alignment\": \"Neutral Good\", \"age\": 16}\n"
     ]
    }
   ],
   "source": [
    "import json\n",
    "json_str = json.dumps(new.__dict__)\n",
    "\n",
    "# Print the JSON string\n",
    "print(json_str)"
   ]
  }
 ],
 "metadata": {
  "kernelspec": {
   "display_name": "Python 3",
   "language": "python",
   "name": "python3"
  },
  "language_info": {
   "codemirror_mode": {
    "name": "ipython",
    "version": 3
   },
   "file_extension": ".py",
   "mimetype": "text/x-python",
   "name": "python",
   "nbconvert_exporter": "python",
   "pygments_lexer": "ipython3",
   "version": "3.10.12"
  },
  "orig_nbformat": 4
 },
 "nbformat": 4,
 "nbformat_minor": 2
}
